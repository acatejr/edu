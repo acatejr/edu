{
 "cells": [
  {
   "cell_type": "markdown",
   "metadata": {},
   "source": [
    "## Mining the data using Initial Evaluations."
   ]
  },
  {
   "cell_type": "code",
   "execution_count": 107,
   "metadata": {
    "collapsed": true
   },
   "outputs": [],
   "source": [
    "# Import the tools we need\n",
    "import numpy as np\n",
    "import pandas as pd\n",
    "from pandas import Series, DataFrame, read_json"
   ]
  },
  {
   "cell_type": "code",
   "execution_count": 108,
   "metadata": {
    "collapsed": true
   },
   "outputs": [],
   "source": [
    "# The web service that is the source of our data.\n",
    "# This allows us to retrieve live data from the web service.\n",
    "url = 'http://172.16.1.247:8000/ontario/api/initialevaluations?format=json'"
   ]
  },
  {
   "cell_type": "code",
   "execution_count": 109,
   "metadata": {
    "collapsed": true
   },
   "outputs": [],
   "source": [
    "# let's create a dataframe\n",
    "df = pd.read_json(url)"
   ]
  },
  {
   "cell_type": "code",
   "execution_count": 110,
   "metadata": {
    "collapsed": false
   },
   "outputs": [
    {
     "data": {
      "text/html": [
       "<div>\n",
       "<table border=\"1\" class=\"dataframe\">\n",
       "  <thead>\n",
       "    <tr style=\"text-align: right;\">\n",
       "      <th></th>\n",
       "      <th>bmi</th>\n",
       "      <th>gender</th>\n",
       "      <th>height</th>\n",
       "      <th>high_exercise</th>\n",
       "      <th>id</th>\n",
       "      <th>light_exercise</th>\n",
       "      <th>measured_blood_glucose</th>\n",
       "      <th>measured_blood_pressure</th>\n",
       "      <th>measured_hdl</th>\n",
       "      <th>measured_ldl</th>\n",
       "      <th>measured_total_cholesterol</th>\n",
       "      <th>measured_triglycerides</th>\n",
       "      <th>medium_exercise</th>\n",
       "      <th>participant</th>\n",
       "      <th>weight</th>\n",
       "    </tr>\n",
       "  </thead>\n",
       "  <tbody>\n",
       "    <tr>\n",
       "      <th>0</th>\n",
       "      <td>28.2</td>\n",
       "      <td>f</td>\n",
       "      <td>63</td>\n",
       "      <td>3</td>\n",
       "      <td>155</td>\n",
       "      <td>5</td>\n",
       "      <td>96</td>\n",
       "      <td>113/75</td>\n",
       "      <td>24</td>\n",
       "      <td>92</td>\n",
       "      <td>134</td>\n",
       "      <td>45</td>\n",
       "      <td>3</td>\n",
       "      <td>1043</td>\n",
       "      <td>159.2</td>\n",
       "    </tr>\n",
       "    <tr>\n",
       "      <th>1</th>\n",
       "      <td>30.7</td>\n",
       "      <td>f</td>\n",
       "      <td>62</td>\n",
       "      <td>5</td>\n",
       "      <td>156</td>\n",
       "      <td>5</td>\n",
       "      <td>90</td>\n",
       "      <td>113/74</td>\n",
       "      <td>45</td>\n",
       "      <td>121</td>\n",
       "      <td>187</td>\n",
       "      <td>102</td>\n",
       "      <td>3</td>\n",
       "      <td>1044</td>\n",
       "      <td>168.0</td>\n",
       "    </tr>\n",
       "    <tr>\n",
       "      <th>2</th>\n",
       "      <td>28.1</td>\n",
       "      <td>f</td>\n",
       "      <td>59</td>\n",
       "      <td>4</td>\n",
       "      <td>157</td>\n",
       "      <td>4</td>\n",
       "      <td>96</td>\n",
       "      <td>133/91</td>\n",
       "      <td>70</td>\n",
       "      <td>135</td>\n",
       "      <td>235</td>\n",
       "      <td>45</td>\n",
       "      <td>6</td>\n",
       "      <td>1045</td>\n",
       "      <td>139.2</td>\n",
       "    </tr>\n",
       "    <tr>\n",
       "      <th>3</th>\n",
       "      <td>31.6</td>\n",
       "      <td>f</td>\n",
       "      <td>62</td>\n",
       "      <td>5</td>\n",
       "      <td>158</td>\n",
       "      <td>5</td>\n",
       "      <td>83</td>\n",
       "      <td>131/75</td>\n",
       "      <td>60</td>\n",
       "      <td>117</td>\n",
       "      <td>213</td>\n",
       "      <td>179</td>\n",
       "      <td>5</td>\n",
       "      <td>1046</td>\n",
       "      <td>173.2</td>\n",
       "    </tr>\n",
       "    <tr>\n",
       "      <th>4</th>\n",
       "      <td>28.6</td>\n",
       "      <td>f</td>\n",
       "      <td>63</td>\n",
       "      <td>6</td>\n",
       "      <td>159</td>\n",
       "      <td>5</td>\n",
       "      <td>89</td>\n",
       "      <td>140/72</td>\n",
       "      <td>43</td>\n",
       "      <td>172</td>\n",
       "      <td>243</td>\n",
       "      <td>45</td>\n",
       "      <td>5</td>\n",
       "      <td>1047</td>\n",
       "      <td>160.2</td>\n",
       "    </tr>\n",
       "  </tbody>\n",
       "</table>\n",
       "</div>"
      ],
      "text/plain": [
       "    bmi gender  height  high_exercise   id  light_exercise  \\\n",
       "0  28.2      f      63              3  155               5   \n",
       "1  30.7      f      62              5  156               5   \n",
       "2  28.1      f      59              4  157               4   \n",
       "3  31.6      f      62              5  158               5   \n",
       "4  28.6      f      63              6  159               5   \n",
       "\n",
       "   measured_blood_glucose measured_blood_pressure  measured_hdl  measured_ldl  \\\n",
       "0                      96                  113/75            24            92   \n",
       "1                      90                  113/74            45           121   \n",
       "2                      96                  133/91            70           135   \n",
       "3                      83                  131/75            60           117   \n",
       "4                      89                  140/72            43           172   \n",
       "\n",
       "   measured_total_cholesterol  measured_triglycerides  medium_exercise  \\\n",
       "0                         134                      45                3   \n",
       "1                         187                     102                3   \n",
       "2                         235                      45                6   \n",
       "3                         213                     179                5   \n",
       "4                         243                      45                5   \n",
       "\n",
       "   participant  weight  \n",
       "0         1043   159.2  \n",
       "1         1044   168.0  \n",
       "2         1045   139.2  \n",
       "3         1046   173.2  \n",
       "4         1047   160.2  "
      ]
     },
     "execution_count": 110,
     "metadata": {},
     "output_type": "execute_result"
    }
   ],
   "source": [
    "# Let's see the first 5 rows of that data\n",
    "df.head(5)"
   ]
  },
  {
   "cell_type": "code",
   "execution_count": 111,
   "metadata": {
    "collapsed": false
   },
   "outputs": [
    {
     "data": {
      "text/html": [
       "<div>\n",
       "<table border=\"1\" class=\"dataframe\">\n",
       "  <thead>\n",
       "    <tr style=\"text-align: right;\">\n",
       "      <th></th>\n",
       "      <th>bmi</th>\n",
       "      <th>height</th>\n",
       "      <th>high_exercise</th>\n",
       "      <th>id</th>\n",
       "      <th>light_exercise</th>\n",
       "      <th>measured_blood_glucose</th>\n",
       "      <th>measured_hdl</th>\n",
       "      <th>measured_ldl</th>\n",
       "      <th>measured_total_cholesterol</th>\n",
       "      <th>measured_triglycerides</th>\n",
       "      <th>medium_exercise</th>\n",
       "      <th>participant</th>\n",
       "      <th>weight</th>\n",
       "    </tr>\n",
       "  </thead>\n",
       "  <tbody>\n",
       "    <tr>\n",
       "      <th>count</th>\n",
       "      <td>146.000000</td>\n",
       "      <td>147.000000</td>\n",
       "      <td>138.000000</td>\n",
       "      <td>153.000000</td>\n",
       "      <td>143.000000</td>\n",
       "      <td>148.000000</td>\n",
       "      <td>148.000000</td>\n",
       "      <td>148.000000</td>\n",
       "      <td>148.000000</td>\n",
       "      <td>148.000000</td>\n",
       "      <td>139.000000</td>\n",
       "      <td>153.000000</td>\n",
       "      <td>147.000000</td>\n",
       "    </tr>\n",
       "    <tr>\n",
       "      <th>mean</th>\n",
       "      <td>30.172603</td>\n",
       "      <td>63.299320</td>\n",
       "      <td>4.217391</td>\n",
       "      <td>231.000000</td>\n",
       "      <td>4.153846</td>\n",
       "      <td>106.912162</td>\n",
       "      <td>48.763514</td>\n",
       "      <td>105.479730</td>\n",
       "      <td>192.506757</td>\n",
       "      <td>102.259122</td>\n",
       "      <td>4.028777</td>\n",
       "      <td>1087.313725</td>\n",
       "      <td>171.485714</td>\n",
       "    </tr>\n",
       "    <tr>\n",
       "      <th>std</th>\n",
       "      <td>5.197685</td>\n",
       "      <td>3.082018</td>\n",
       "      <td>1.909405</td>\n",
       "      <td>44.311398</td>\n",
       "      <td>1.194516</td>\n",
       "      <td>42.367188</td>\n",
       "      <td>15.168604</td>\n",
       "      <td>42.180769</td>\n",
       "      <td>39.250373</td>\n",
       "      <td>76.782924</td>\n",
       "      <td>1.793476</td>\n",
       "      <td>50.111910</td>\n",
       "      <td>33.452653</td>\n",
       "    </tr>\n",
       "    <tr>\n",
       "      <th>min</th>\n",
       "      <td>16.700000</td>\n",
       "      <td>57.000000</td>\n",
       "      <td>1.000000</td>\n",
       "      <td>155.000000</td>\n",
       "      <td>1.000000</td>\n",
       "      <td>72.000000</td>\n",
       "      <td>6.000000</td>\n",
       "      <td>6.000000</td>\n",
       "      <td>126.000000</td>\n",
       "      <td>45.000000</td>\n",
       "      <td>1.000000</td>\n",
       "      <td>1001.000000</td>\n",
       "      <td>93.400000</td>\n",
       "    </tr>\n",
       "    <tr>\n",
       "      <th>25%</th>\n",
       "      <td>26.725000</td>\n",
       "      <td>61.000000</td>\n",
       "      <td>2.000000</td>\n",
       "      <td>193.000000</td>\n",
       "      <td>3.000000</td>\n",
       "      <td>88.000000</td>\n",
       "      <td>38.000000</td>\n",
       "      <td>78.750000</td>\n",
       "      <td>162.000000</td>\n",
       "      <td>45.000000</td>\n",
       "      <td>2.000000</td>\n",
       "      <td>1047.000000</td>\n",
       "      <td>150.200000</td>\n",
       "    </tr>\n",
       "    <tr>\n",
       "      <th>50%</th>\n",
       "      <td>29.900000</td>\n",
       "      <td>63.000000</td>\n",
       "      <td>5.000000</td>\n",
       "      <td>231.000000</td>\n",
       "      <td>5.000000</td>\n",
       "      <td>93.000000</td>\n",
       "      <td>48.000000</td>\n",
       "      <td>103.000000</td>\n",
       "      <td>187.500000</td>\n",
       "      <td>45.000000</td>\n",
       "      <td>4.000000</td>\n",
       "      <td>1090.000000</td>\n",
       "      <td>166.600000</td>\n",
       "    </tr>\n",
       "    <tr>\n",
       "      <th>75%</th>\n",
       "      <td>33.150000</td>\n",
       "      <td>65.000000</td>\n",
       "      <td>6.000000</td>\n",
       "      <td>269.000000</td>\n",
       "      <td>5.000000</td>\n",
       "      <td>106.000000</td>\n",
       "      <td>58.000000</td>\n",
       "      <td>132.000000</td>\n",
       "      <td>219.000000</td>\n",
       "      <td>139.000000</td>\n",
       "      <td>6.000000</td>\n",
       "      <td>1130.000000</td>\n",
       "      <td>187.300000</td>\n",
       "    </tr>\n",
       "    <tr>\n",
       "      <th>max</th>\n",
       "      <td>46.200000</td>\n",
       "      <td>71.000000</td>\n",
       "      <td>6.000000</td>\n",
       "      <td>307.000000</td>\n",
       "      <td>6.000000</td>\n",
       "      <td>359.000000</td>\n",
       "      <td>93.000000</td>\n",
       "      <td>242.000000</td>\n",
       "      <td>320.000000</td>\n",
       "      <td>372.000000</td>\n",
       "      <td>6.000000</td>\n",
       "      <td>1171.000000</td>\n",
       "      <td>295.200000</td>\n",
       "    </tr>\n",
       "  </tbody>\n",
       "</table>\n",
       "</div>"
      ],
      "text/plain": [
       "              bmi      height  high_exercise          id  light_exercise  \\\n",
       "count  146.000000  147.000000     138.000000  153.000000      143.000000   \n",
       "mean    30.172603   63.299320       4.217391  231.000000        4.153846   \n",
       "std      5.197685    3.082018       1.909405   44.311398        1.194516   \n",
       "min     16.700000   57.000000       1.000000  155.000000        1.000000   \n",
       "25%     26.725000   61.000000       2.000000  193.000000        3.000000   \n",
       "50%     29.900000   63.000000       5.000000  231.000000        5.000000   \n",
       "75%     33.150000   65.000000       6.000000  269.000000        5.000000   \n",
       "max     46.200000   71.000000       6.000000  307.000000        6.000000   \n",
       "\n",
       "       measured_blood_glucose  measured_hdl  measured_ldl  \\\n",
       "count              148.000000    148.000000    148.000000   \n",
       "mean               106.912162     48.763514    105.479730   \n",
       "std                 42.367188     15.168604     42.180769   \n",
       "min                 72.000000      6.000000      6.000000   \n",
       "25%                 88.000000     38.000000     78.750000   \n",
       "50%                 93.000000     48.000000    103.000000   \n",
       "75%                106.000000     58.000000    132.000000   \n",
       "max                359.000000     93.000000    242.000000   \n",
       "\n",
       "       measured_total_cholesterol  measured_triglycerides  medium_exercise  \\\n",
       "count                  148.000000              148.000000       139.000000   \n",
       "mean                   192.506757              102.259122         4.028777   \n",
       "std                     39.250373               76.782924         1.793476   \n",
       "min                    126.000000               45.000000         1.000000   \n",
       "25%                    162.000000               45.000000         2.000000   \n",
       "50%                    187.500000               45.000000         4.000000   \n",
       "75%                    219.000000              139.000000         6.000000   \n",
       "max                    320.000000              372.000000         6.000000   \n",
       "\n",
       "       participant      weight  \n",
       "count   153.000000  147.000000  \n",
       "mean   1087.313725  171.485714  \n",
       "std      50.111910   33.452653  \n",
       "min    1001.000000   93.400000  \n",
       "25%    1047.000000  150.200000  \n",
       "50%    1090.000000  166.600000  \n",
       "75%    1130.000000  187.300000  \n",
       "max    1171.000000  295.200000  "
      ]
     },
     "execution_count": 111,
     "metadata": {},
     "output_type": "execute_result"
    }
   ],
   "source": [
    "# Let's comput summary stats across the data frame.\n",
    "description = df.describe()\n",
    "description"
   ]
  },
  {
   "cell_type": "code",
   "execution_count": 112,
   "metadata": {
    "collapsed": false
   },
   "outputs": [
    {
     "data": {
      "text/plain": [
       "0    159.2\n",
       "1    168.0\n",
       "2    139.2\n",
       "3    173.2\n",
       "4    160.2\n",
       "Name: weight, dtype: float64"
      ]
     },
     "execution_count": 112,
     "metadata": {},
     "output_type": "execute_result"
    }
   ],
   "source": [
    "# Let's explore the weights data column.\n",
    "weights = jsondf['weight']\n",
    "weights.head()"
   ]
  },
  {
   "cell_type": "code",
   "execution_count": 113,
   "metadata": {
    "collapsed": false
   },
   "outputs": [
    {
     "data": {
      "text/plain": [
       "<matplotlib.text.Text at 0x7fdb9e42bed0>"
      ]
     },
     "execution_count": 113,
     "metadata": {},
     "output_type": "execute_result"
    },
    {
     "data": {
      "image/png": "[encoded data removed]",
      "text/plain": [
       "<matplotlib.figure.Figure at 0x7fdb9e574810>"
      ]
     },
     "metadata": {},
     "output_type": "display_data"
    }
   ],
   "source": [
    "# We want to see the distribution of weights using a histogram\n",
    "%matplotlib inline\n",
    "weights_hist = weights.plot.hist(bins=7, legend=True)\n",
    "weights_hist.set_xlabel('Weight (lb.)')\n",
    "weights_hist.set_ylabel('Count')"
   ]
  },
  {
   "cell_type": "code",
   "execution_count": 114,
   "metadata": {
    "collapsed": false
   },
   "outputs": [
    {
     "data": {
      "text/html": [
       "<div>\n",
       "<table border=\"1\" class=\"dataframe\">\n",
       "  <thead>\n",
       "    <tr style=\"text-align: right;\">\n",
       "      <th></th>\n",
       "      <th>measured_blood_glucose</th>\n",
       "      <th>measured_hdl</th>\n",
       "      <th>measured_ldl</th>\n",
       "      <th>measured_total_cholesterol</th>\n",
       "      <th>measured_triglycerides</th>\n",
       "    </tr>\n",
       "  </thead>\n",
       "  <tbody>\n",
       "    <tr>\n",
       "      <th>0</th>\n",
       "      <td>96</td>\n",
       "      <td>24</td>\n",
       "      <td>92</td>\n",
       "      <td>134</td>\n",
       "      <td>45</td>\n",
       "    </tr>\n",
       "    <tr>\n",
       "      <th>1</th>\n",
       "      <td>90</td>\n",
       "      <td>45</td>\n",
       "      <td>121</td>\n",
       "      <td>187</td>\n",
       "      <td>102</td>\n",
       "    </tr>\n",
       "    <tr>\n",
       "      <th>2</th>\n",
       "      <td>96</td>\n",
       "      <td>70</td>\n",
       "      <td>135</td>\n",
       "      <td>235</td>\n",
       "      <td>45</td>\n",
       "    </tr>\n",
       "    <tr>\n",
       "      <th>3</th>\n",
       "      <td>83</td>\n",
       "      <td>60</td>\n",
       "      <td>117</td>\n",
       "      <td>213</td>\n",
       "      <td>179</td>\n",
       "    </tr>\n",
       "    <tr>\n",
       "      <th>4</th>\n",
       "      <td>89</td>\n",
       "      <td>43</td>\n",
       "      <td>172</td>\n",
       "      <td>243</td>\n",
       "      <td>45</td>\n",
       "    </tr>\n",
       "  </tbody>\n",
       "</table>\n",
       "</div>"
      ],
      "text/plain": [
       "   measured_blood_glucose  measured_hdl  measured_ldl  \\\n",
       "0                      96            24            92   \n",
       "1                      90            45           121   \n",
       "2                      96            70           135   \n",
       "3                      83            60           117   \n",
       "4                      89            43           172   \n",
       "\n",
       "   measured_total_cholesterol  measured_triglycerides  \n",
       "0                         134                      45  \n",
       "1                         187                     102  \n",
       "2                         235                      45  \n",
       "3                         213                     179  \n",
       "4                         243                      45  "
      ]
     },
     "execution_count": 114,
     "metadata": {},
     "output_type": "execute_result"
    }
   ],
   "source": [
    "# We want to look at biometrics data\n",
    "biometrics = df.loc[:, ['measured_blood_glucose', 'measured_hdl', 'measured_ldl', 'measured_total_cholesterol', 'measured_triglycerides']]\n",
    "biometrics.head(5)"
   ]
  },
  {
   "cell_type": "code",
   "execution_count": 115,
   "metadata": {
    "collapsed": false
   },
   "outputs": [
    {
     "data": {
      "text/html": [
       "<div>\n",
       "<table border=\"1\" class=\"dataframe\">\n",
       "  <thead>\n",
       "    <tr style=\"text-align: right;\">\n",
       "      <th></th>\n",
       "      <th>bg</th>\n",
       "      <th>hdl</th>\n",
       "      <th>ldl</th>\n",
       "      <th>tc</th>\n",
       "      <th>tg</th>\n",
       "    </tr>\n",
       "  </thead>\n",
       "  <tbody>\n",
       "    <tr>\n",
       "      <th>count</th>\n",
       "      <td>148.000000</td>\n",
       "      <td>148.000000</td>\n",
       "      <td>148.000000</td>\n",
       "      <td>148.000000</td>\n",
       "      <td>148.000000</td>\n",
       "    </tr>\n",
       "    <tr>\n",
       "      <th>mean</th>\n",
       "      <td>106.912162</td>\n",
       "      <td>48.763514</td>\n",
       "      <td>105.479730</td>\n",
       "      <td>192.506757</td>\n",
       "      <td>102.259122</td>\n",
       "    </tr>\n",
       "    <tr>\n",
       "      <th>std</th>\n",
       "      <td>42.367188</td>\n",
       "      <td>15.168604</td>\n",
       "      <td>42.180769</td>\n",
       "      <td>39.250373</td>\n",
       "      <td>76.782924</td>\n",
       "    </tr>\n",
       "    <tr>\n",
       "      <th>min</th>\n",
       "      <td>72.000000</td>\n",
       "      <td>6.000000</td>\n",
       "      <td>6.000000</td>\n",
       "      <td>126.000000</td>\n",
       "      <td>45.000000</td>\n",
       "    </tr>\n",
       "    <tr>\n",
       "      <th>25%</th>\n",
       "      <td>88.000000</td>\n",
       "      <td>38.000000</td>\n",
       "      <td>78.750000</td>\n",
       "      <td>162.000000</td>\n",
       "      <td>45.000000</td>\n",
       "    </tr>\n",
       "    <tr>\n",
       "      <th>50%</th>\n",
       "      <td>93.000000</td>\n",
       "      <td>48.000000</td>\n",
       "      <td>103.000000</td>\n",
       "      <td>187.500000</td>\n",
       "      <td>45.000000</td>\n",
       "    </tr>\n",
       "    <tr>\n",
       "      <th>75%</th>\n",
       "      <td>106.000000</td>\n",
       "      <td>58.000000</td>\n",
       "      <td>132.000000</td>\n",
       "      <td>219.000000</td>\n",
       "      <td>139.000000</td>\n",
       "    </tr>\n",
       "    <tr>\n",
       "      <th>max</th>\n",
       "      <td>359.000000</td>\n",
       "      <td>93.000000</td>\n",
       "      <td>242.000000</td>\n",
       "      <td>320.000000</td>\n",
       "      <td>372.000000</td>\n",
       "    </tr>\n",
       "  </tbody>\n",
       "</table>\n",
       "</div>"
      ],
      "text/plain": [
       "               bg         hdl         ldl          tc          tg\n",
       "count  148.000000  148.000000  148.000000  148.000000  148.000000\n",
       "mean   106.912162   48.763514  105.479730  192.506757  102.259122\n",
       "std     42.367188   15.168604   42.180769   39.250373   76.782924\n",
       "min     72.000000    6.000000    6.000000  126.000000   45.000000\n",
       "25%     88.000000   38.000000   78.750000  162.000000   45.000000\n",
       "50%     93.000000   48.000000  103.000000  187.500000   45.000000\n",
       "75%    106.000000   58.000000  132.000000  219.000000  139.000000\n",
       "max    359.000000   93.000000  242.000000  320.000000  372.000000"
      ]
     },
     "execution_count": 115,
     "metadata": {},
     "output_type": "execute_result"
    }
   ],
   "source": [
    "# Show the biometrics summary data\n",
    "biometrics_summary_stats = biometrics.describe()\n",
    "bms = biometrics_summary_stats.rename(columns={'measured_blood_glucose': 'bg',\n",
    "                                        'measured_hdl': 'hdl',\n",
    "                                        'measured_ldl': 'ldl',\n",
    "                                        'measured_total_cholesterol': 'tc',\n",
    "                                        'measured_triglycerides': 'tg'})\n",
    "bms"
   ]
  },
  {
   "cell_type": "code",
   "execution_count": 116,
   "metadata": {
    "collapsed": false
   },
   "outputs": [
    {
     "data": {
      "text/html": [
       "<div>\n",
       "<table border=\"1\" class=\"dataframe\">\n",
       "  <thead>\n",
       "    <tr style=\"text-align: right;\">\n",
       "      <th></th>\n",
       "      <th>bg</th>\n",
       "      <th>hdl</th>\n",
       "      <th>ldl</th>\n",
       "      <th>tc</th>\n",
       "      <th>tg</th>\n",
       "    </tr>\n",
       "  </thead>\n",
       "  <tbody>\n",
       "    <tr>\n",
       "      <th>mean</th>\n",
       "      <td>106.912162</td>\n",
       "      <td>48.763514</td>\n",
       "      <td>105.47973</td>\n",
       "      <td>192.506757</td>\n",
       "      <td>102.259122</td>\n",
       "    </tr>\n",
       "    <tr>\n",
       "      <th>min</th>\n",
       "      <td>72.000000</td>\n",
       "      <td>6.000000</td>\n",
       "      <td>6.00000</td>\n",
       "      <td>126.000000</td>\n",
       "      <td>45.000000</td>\n",
       "    </tr>\n",
       "    <tr>\n",
       "      <th>max</th>\n",
       "      <td>359.000000</td>\n",
       "      <td>93.000000</td>\n",
       "      <td>242.00000</td>\n",
       "      <td>320.000000</td>\n",
       "      <td>372.000000</td>\n",
       "    </tr>\n",
       "  </tbody>\n",
       "</table>\n",
       "</div>"
      ],
      "text/plain": [
       "              bg        hdl        ldl          tc          tg\n",
       "mean  106.912162  48.763514  105.47973  192.506757  102.259122\n",
       "min    72.000000   6.000000    6.00000  126.000000   45.000000\n",
       "max   359.000000  93.000000  242.00000  320.000000  372.000000"
      ]
     },
     "execution_count": 116,
     "metadata": {},
     "output_type": "execute_result"
    }
   ],
   "source": [
    "# Now get the max, min and mean only.\n",
    "bms_subset = bms.ix[['mean', 'min', 'max']]\n",
    "bms_subset"
   ]
  },
  {
   "cell_type": "code",
   "execution_count": 117,
   "metadata": {
    "collapsed": false
   },
   "outputs": [
    {
     "data": {
      "text/plain": [
       "<matplotlib.axes._subplots.AxesSubplot at 0x7fdb9e41cb10>"
      ]
     },
     "execution_count": 117,
     "metadata": {},
     "output_type": "execute_result"
    },
    {
     "data": {
      "image/png": "[encoded data removed]",
      "text/plain": [
       "<matplotlib.figure.Figure at 0x7fdb9e42ee90>"
      ]
     },
     "metadata": {},
     "output_type": "display_data"
    }
   ],
   "source": [
    "# Transpose the data and display a grouped bar graph.\n",
    "bms_subset.transpose().plot.bar()"
   ]
  },
  {
   "cell_type": "code",
   "execution_count": null,
   "metadata": {
    "collapsed": true
   },
   "outputs": [],
   "source": []
  }
 ],
 "metadata": {
  "kernelspec": {
   "display_name": "Python 2",
   "language": "python",
   "name": "python2"
  },
  "language_info": {
   "codemirror_mode": {
    "name": "ipython",
    "version": 2
   },
   "file_extension": ".py",
   "mimetype": "text/x-python",
   "name": "python",
   "nbconvert_exporter": "python",
   "pygments_lexer": "ipython2",
   "version": "2.7.11"
  },
  "widgets": {
   "state": {},
   "version": "1.1.1"
  }
 },
 "nbformat": 4,
 "nbformat_minor": 0
}
